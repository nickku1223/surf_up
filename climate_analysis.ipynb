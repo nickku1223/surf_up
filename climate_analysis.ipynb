{
 "cells": [
  {
   "cell_type": "code",
   "execution_count": 3,
   "metadata": {},
   "outputs": [],
   "source": [
    "%matplotlib inline\n",
    "from matplotlib import style\n",
    "style.use('fivethirtyeight')\n",
    "import matplotlib.pyplot as plt\n",
    "import numpy as np\n",
    "import pandas as pd\n",
    "import datetime as dt"
   ]
  },
  {
   "cell_type": "markdown",
   "metadata": {},
   "source": [
    "# Reflect Tables into SQLAlchemy ORM"
   ]
  },
  {
   "cell_type": "code",
   "execution_count": 4,
   "metadata": {},
   "outputs": [],
   "source": [
    "# Python SQL toolkit and Object Relational Mapper\n",
    "import sqlalchemy\n",
    "from sqlalchemy.ext.automap import automap_base\n",
    "from sqlalchemy.orm import Session\n",
    "from sqlalchemy import create_engine, func"
   ]
  },
  {
   "cell_type": "code",
   "execution_count": 5,
   "metadata": {},
   "outputs": [],
   "source": [
    "engine = create_engine(\"sqlite:///hawaii.sqlite\")"
   ]
  },
  {
   "cell_type": "code",
   "execution_count": 6,
   "metadata": {},
   "outputs": [],
   "source": [
    "# reflect an existing database into a new model\n",
    "Base = automap_base()\n",
    "# reflect the tables\n",
    "Base.prepare(engine, reflect=True)"
   ]
  },
  {
   "cell_type": "code",
   "execution_count": 7,
   "metadata": {},
   "outputs": [
    {
     "data": {
      "text/plain": [
       "['measurement', 'station']"
      ]
     },
     "execution_count": 7,
     "metadata": {},
     "output_type": "execute_result"
    }
   ],
   "source": [
    "# We can view all of the classes that automap found\n",
    "Base.classes.keys()"
   ]
  },
  {
   "cell_type": "code",
   "execution_count": 8,
   "metadata": {},
   "outputs": [],
   "source": [
    "# Save references to each table\n",
    "Measurement = Base.classes.measurement\n",
    "Station = Base.classes.station"
   ]
  },
  {
   "cell_type": "code",
   "execution_count": 9,
   "metadata": {},
   "outputs": [],
   "source": [
    "# Create our session (link) from Python to the DB\n",
    "session = Session(engine)"
   ]
  },
  {
   "cell_type": "markdown",
   "metadata": {},
   "source": [
    "# Exploratory Climate Analysis"
   ]
  },
  {
   "cell_type": "code",
   "execution_count": 19,
   "metadata": {},
   "outputs": [],
   "source": [
    "# Design a query to retrieve the last 12 months of precipitation data and plot the results. \n",
    "#Starting from the last data point in the database. \n",
    "prev_year = dt.date(2017, 8, 23)\n",
    "\n",
    "# Calculate the date one year from the last date in data set.\n",
    "prev_year = dt.date(2017, 8, 23) - dt.timedelta(days = 365)\n",
    "\n",
    "# Perform a query to retrieve the data and precipitation scores\n",
    "results = session.query(Measurement.date, Measurement.prcp).filter(Measurement.date >= prev_year).all()\n",
    "#print(results)\n",
    "\n",
    "# Save the query results as a Pandas DataFrame and set the index to the date column\n",
    "df = pd.DataFrame(results, columns = ['date', 'precipitation'])\n",
    "df.set_index(df['date'], inplace = True)\n",
    "\n",
    "# Print out the DataFrame without the index\n",
    "print(df.to_string(index = False))\n",
    "\n",
    "# Sort the dataframe by date\n",
    "df = df.sort_index()\n",
    "print(df.to_string(index = False))"
   ]
  },
  {
   "cell_type": "code",
   "execution_count": 22,
   "metadata": {},
   "outputs": [
    {
     "data": {
      "text/plain": [
       "<AxesSubplot:xlabel='date'>"
      ]
     },
     "execution_count": 22,
     "metadata": {},
     "output_type": "execute_result"
    },
    {
     "data": {
      "image/png": "[encoded data removed]",
      "text/plain": [
       "<Figure size 432x288 with 1 Axes>"
      ]
     },
     "metadata": {},
     "output_type": "display_data"
    }
   ],
   "source": [
    "# Use Pandas Plotting with Matplotlib to plot the data\n",
    "df.plot(rot=90)"
   ]
  },
  {
   "cell_type": "code",
   "execution_count": 23,
   "metadata": {},
   "outputs": [
    {
     "data": {
      "text/html": [
       "<div>\n",
       "<style scoped>\n",
       "    .dataframe tbody tr th:only-of-type {\n",
       "        vertical-align: middle;\n",
       "    }\n",
       "\n",
       "    .dataframe tbody tr th {\n",
       "        vertical-align: top;\n",
       "    }\n",
       "\n",
       "    .dataframe thead th {\n",
       "        text-align: right;\n",
       "    }\n",
       "</style>\n",
       "<table border=\"1\" class=\"dataframe\">\n",
       "  <thead>\n",
       "    <tr style=\"text-align: right;\">\n",
       "      <th></th>\n",
       "      <th>precipitation</th>\n",
       "    </tr>\n",
       "  </thead>\n",
       "  <tbody>\n",
       "    <tr>\n",
       "      <th>count</th>\n",
       "      <td>2021.000000</td>\n",
       "    </tr>\n",
       "    <tr>\n",
       "      <th>mean</th>\n",
       "      <td>0.177279</td>\n",
       "    </tr>\n",
       "    <tr>\n",
       "      <th>std</th>\n",
       "      <td>0.461190</td>\n",
       "    </tr>\n",
       "    <tr>\n",
       "      <th>min</th>\n",
       "      <td>0.000000</td>\n",
       "    </tr>\n",
       "    <tr>\n",
       "      <th>25%</th>\n",
       "      <td>0.000000</td>\n",
       "    </tr>\n",
       "    <tr>\n",
       "      <th>50%</th>\n",
       "      <td>0.020000</td>\n",
       "    </tr>\n",
       "    <tr>\n",
       "      <th>75%</th>\n",
       "      <td>0.130000</td>\n",
       "    </tr>\n",
       "    <tr>\n",
       "      <th>max</th>\n",
       "      <td>6.700000</td>\n",
       "    </tr>\n",
       "  </tbody>\n",
       "</table>\n",
       "</div>"
      ],
      "text/plain": [
       "       precipitation\n",
       "count    2021.000000\n",
       "mean        0.177279\n",
       "std         0.461190\n",
       "min         0.000000\n",
       "25%         0.000000\n",
       "50%         0.020000\n",
       "75%         0.130000\n",
       "max         6.700000"
      ]
     },
     "execution_count": 23,
     "metadata": {},
     "output_type": "execute_result"
    }
   ],
   "source": [
    "# Use Pandas to calcualte the summary statistics for the precipitation data\n",
    "df.describe()"
   ]
  },
  {
   "cell_type": "code",
   "execution_count": 24,
   "metadata": {},
   "outputs": [
    {
     "data": {
      "text/plain": [
       "[(9,)]"
      ]
     },
     "execution_count": 24,
     "metadata": {},
     "output_type": "execute_result"
    }
   ],
   "source": [
    "# How many stations are available in this dataset?\n",
    "session.query(func.count(Station.station)).all()"
   ]
  },
  {
   "cell_type": "code",
   "execution_count": 28,
   "metadata": {},
   "outputs": [
    {
     "data": {
      "text/plain": [
       "[('USC00519281', 2772),\n",
       " ('USC00519397', 2724),\n",
       " ('USC00513117', 2709),\n",
       " ('USC00519523', 2669),\n",
       " ('USC00516128', 2612),\n",
       " ('USC00514830', 2202),\n",
       " ('USC00511918', 1979),\n",
       " ('USC00517948', 1372),\n",
       " ('USC00518838', 511)]"
      ]
     },
     "execution_count": 28,
     "metadata": {},
     "output_type": "execute_result"
    }
   ],
   "source": [
    "# What are the most active stations?\n",
    "# List the stations and the counts in descending order.\n",
    "session.query(Measurement.station, func.count(Measurement.station)).\\\n",
    "group_by(Measurement.station).order_by(func.count(Measurement.station).desc()).all()"
   ]
  },
  {
   "cell_type": "code",
   "execution_count": 31,
   "metadata": {},
   "outputs": [
    {
     "data": {
      "text/plain": [
       "[(54.0, 85.0, 71.66378066378067)]"
      ]
     },
     "execution_count": 31,
     "metadata": {},
     "output_type": "execute_result"
    }
   ],
   "source": [
    "# Using the station id from the previous query, calculate the lowest temperature recorded, \n",
    "# highest temperature recorded, and average temperature most active station?\n",
    "session.query(func.min(Measurement.tobs), func.max(Measurement.tobs), func.avg(Measurement.tobs)).\\\n",
    "filter(Measurement.station == 'USC00519281').all()"
   ]
  },
  {
   "cell_type": "code",
   "execution_count": 39,
   "metadata": {},
   "outputs": [
    {
     "name": "stdout",
     "output_type": "stream",
     "text": [
      " tobs\n",
      " 77.0\n",
      " 77.0\n",
      " 80.0\n",
      " 80.0\n",
      " 75.0\n",
      " 73.0\n",
      " 78.0\n",
      " 77.0\n",
      " 78.0\n",
      " 80.0\n",
      " 80.0\n",
      " 78.0\n",
      " 78.0\n",
      " 78.0\n",
      " 73.0\n",
      " 74.0\n",
      " 80.0\n",
      " 79.0\n",
      " 77.0\n",
      " 80.0\n",
      " 76.0\n",
      " 79.0\n",
      " 75.0\n",
      " 79.0\n",
      " 78.0\n",
      " 79.0\n",
      " 78.0\n",
      " 78.0\n",
      " 76.0\n",
      " 74.0\n",
      " 77.0\n",
      " 78.0\n",
      " 79.0\n",
      " 79.0\n",
      " 77.0\n",
      " 80.0\n",
      " 78.0\n",
      " 78.0\n",
      " 78.0\n",
      " 77.0\n",
      " 79.0\n",
      " 79.0\n",
      " 79.0\n",
      " 79.0\n",
      " 75.0\n",
      " 76.0\n",
      " 73.0\n",
      " 72.0\n",
      " 71.0\n",
      " 77.0\n",
      " 79.0\n",
      " 78.0\n",
      " 79.0\n",
      " 77.0\n",
      " 79.0\n",
      " 77.0\n",
      " 78.0\n",
      " 78.0\n",
      " 78.0\n",
      " 78.0\n",
      " 77.0\n",
      " 74.0\n",
      " 75.0\n",
      " 76.0\n",
      " 73.0\n",
      " 76.0\n",
      " 74.0\n",
      " 77.0\n",
      " 76.0\n",
      " 76.0\n",
      " 74.0\n",
      " 75.0\n",
      " 75.0\n",
      " 75.0\n",
      " 75.0\n",
      " 71.0\n",
      " 63.0\n",
      " 70.0\n",
      " 68.0\n",
      " 67.0\n",
      " 77.0\n",
      " 74.0\n",
      " 77.0\n",
      " 76.0\n",
      " 76.0\n",
      " 75.0\n",
      " 76.0\n",
      " 75.0\n",
      " 73.0\n",
      " 75.0\n",
      " 73.0\n",
      " 75.0\n",
      " 74.0\n",
      " 75.0\n",
      " 74.0\n",
      " 75.0\n",
      " 73.0\n",
      " 75.0\n",
      " 73.0\n",
      " 73.0\n",
      " 74.0\n",
      " 70.0\n",
      " 72.0\n",
      " 70.0\n",
      " 67.0\n",
      " 67.0\n",
      " 69.0\n",
      " 70.0\n",
      " 68.0\n",
      " 69.0\n",
      " 69.0\n",
      " 66.0\n",
      " 65.0\n",
      " 68.0\n",
      " 62.0\n",
      " 75.0\n",
      " 70.0\n",
      " 69.0\n",
      " 76.0\n",
      " 76.0\n",
      " 74.0\n",
      " 73.0\n",
      " 71.0\n",
      " 74.0\n",
      " 74.0\n",
      " 72.0\n",
      " 71.0\n",
      " 72.0\n",
      " 74.0\n",
      " 69.0\n",
      " 67.0\n",
      " 72.0\n",
      " 70.0\n",
      " 64.0\n",
      " 63.0\n",
      " 63.0\n",
      " 62.0\n",
      " 70.0\n",
      " 70.0\n",
      " 62.0\n",
      " 62.0\n",
      " 63.0\n",
      " 65.0\n",
      " 69.0\n",
      " 77.0\n",
      " 70.0\n",
      " 74.0\n",
      " 69.0\n",
      " 72.0\n",
      " 71.0\n",
      " 69.0\n",
      " 71.0\n",
      " 71.0\n",
      " 72.0\n",
      " 72.0\n",
      " 69.0\n",
      " 70.0\n",
      " 66.0\n",
      " 65.0\n",
      " 69.0\n",
      " 68.0\n",
      " 68.0\n",
      " 68.0\n",
      " 59.0\n",
      " 60.0\n",
      " 70.0\n",
      " 73.0\n",
      " 75.0\n",
      " 64.0\n",
      " 59.0\n",
      " 59.0\n",
      " 62.0\n",
      " 68.0\n",
      " 70.0\n",
      " 73.0\n",
      " 79.0\n",
      " 75.0\n",
      " 65.0\n",
      " 70.0\n",
      " 74.0\n",
      " 70.0\n",
      " 70.0\n",
      " 71.0\n",
      " 71.0\n",
      " 71.0\n",
      " 69.0\n",
      " 61.0\n",
      " 67.0\n",
      " 65.0\n",
      " 72.0\n",
      " 71.0\n",
      " 73.0\n",
      " 72.0\n",
      " 77.0\n",
      " 73.0\n",
      " 67.0\n",
      " 62.0\n",
      " 64.0\n",
      " 67.0\n",
      " 66.0\n",
      " 81.0\n",
      " 69.0\n",
      " 66.0\n",
      " 67.0\n",
      " 69.0\n",
      " 66.0\n",
      " 68.0\n",
      " 65.0\n",
      " 74.0\n",
      " 69.0\n",
      " 72.0\n",
      " 73.0\n",
      " 72.0\n",
      " 71.0\n",
      " 76.0\n",
      " 77.0\n",
      " 76.0\n",
      " 74.0\n",
      " 68.0\n",
      " 73.0\n",
      " 71.0\n",
      " 74.0\n",
      " 75.0\n",
      " 70.0\n",
      " 67.0\n",
      " 71.0\n",
      " 67.0\n",
      " 74.0\n",
      " 77.0\n",
      " 78.0\n",
      " 67.0\n",
      " 70.0\n",
      " 69.0\n",
      " 69.0\n",
      " 74.0\n",
      " 78.0\n",
      " 71.0\n",
      " 67.0\n",
      " 68.0\n",
      " 67.0\n",
      " 76.0\n",
      " 69.0\n",
      " 72.0\n",
      " 76.0\n",
      " 68.0\n",
      " 72.0\n",
      " 74.0\n",
      " 70.0\n",
      " 67.0\n",
      " 72.0\n",
      " 60.0\n",
      " 65.0\n",
      " 75.0\n",
      " 70.0\n",
      " 75.0\n",
      " 70.0\n",
      " 79.0\n",
      " 75.0\n",
      " 70.0\n",
      " 67.0\n",
      " 74.0\n",
      " 70.0\n",
      " 75.0\n",
      " 76.0\n",
      " 77.0\n",
      " 74.0\n",
      " 74.0\n",
      " 74.0\n",
      " 69.0\n",
      " 68.0\n",
      " 76.0\n",
      " 74.0\n",
      " 71.0\n",
      " 71.0\n",
      " 74.0\n",
      " 74.0\n",
      " 74.0\n",
      " 74.0\n",
      " 80.0\n",
      " 74.0\n",
      " 72.0\n",
      " 75.0\n",
      " 80.0\n",
      " 76.0\n",
      " 76.0\n",
      " 77.0\n",
      " 75.0\n",
      " 75.0\n",
      " 75.0\n",
      " 75.0\n",
      " 72.0\n",
      " 74.0\n",
      " 74.0\n",
      " 74.0\n",
      " 76.0\n",
      " 74.0\n",
      " 75.0\n",
      " 73.0\n",
      " 79.0\n",
      " 75.0\n",
      " 72.0\n",
      " 72.0\n",
      " 74.0\n",
      " 72.0\n",
      " 72.0\n",
      " 77.0\n",
      " 71.0\n",
      " 73.0\n",
      " 76.0\n",
      " 77.0\n",
      " 76.0\n",
      " 76.0\n",
      " 79.0\n",
      " 81.0\n",
      " 76.0\n",
      " 78.0\n",
      " 77.0\n",
      " 74.0\n",
      " 75.0\n",
      " 78.0\n",
      " 78.0\n",
      " 69.0\n",
      " 72.0\n",
      " 74.0\n",
      " 74.0\n",
      " 76.0\n",
      " 80.0\n",
      " 80.0\n",
      " 76.0\n",
      " 76.0\n",
      " 76.0\n",
      " 77.0\n",
      " 77.0\n",
      " 77.0\n",
      " 82.0\n",
      " 75.0\n",
      " 77.0\n",
      " 75.0\n",
      " 76.0\n",
      " 81.0\n",
      " 82.0\n",
      " 81.0\n",
      " 76.0\n",
      " 77.0\n",
      " 82.0\n",
      " 83.0\n",
      " 77.0\n",
      " 77.0\n",
      " 77.0\n",
      " 76.0\n",
      " 76.0\n",
      " 79.0\n"
     ]
    }
   ],
   "source": [
    "# Choose the station with the highest number of temperature observations.\n",
    "results = session.query(Measurement.tobs).\\\n",
    "filter(Measurement.station == 'USC00519281').\\\n",
    "filter(Measurement.date >= prev_year).all()\n",
    "\n",
    "df = pd.DataFrame(results, columns=['tobs'])\n",
    "print(df.to_string(index=False))"
   ]
  },
  {
   "cell_type": "code",
   "execution_count": 40,
   "metadata": {},
   "outputs": [
    {
     "data": {
      "image/png": "[encoded data removed]",
      "text/plain": [
       "<Figure size 432x288 with 1 Axes>"
      ]
     },
     "metadata": {},
     "output_type": "display_data"
    }
   ],
   "source": [
    "# Query the last 12 months of temperature observation data for this station and plot the results as a histogram\n",
    "df.plot.hist(bins = 12)\n",
    "plt.tight_layout()"
   ]
  },
  {
   "cell_type": "code",
   "execution_count": 41,
   "metadata": {},
   "outputs": [
    {
     "data": {
      "image/png": "[encoded data removed]",
      "text/plain": [
       "<Figure size 432x288 with 1 Axes>"
      ]
     },
     "metadata": {},
     "output_type": "display_data"
    }
   ],
   "source": [
    "# Skill drill, adjust the bins in the plot to 5\n",
    "df.plot.hist(bins = 5)\n",
    "plt.tight_layout()"
   ]
  },
  {
   "cell_type": "code",
   "execution_count": 42,
   "metadata": {},
   "outputs": [
    {
     "data": {
      "image/png": "[encoded data removed]",
      "text/plain": [
       "<Figure size 432x288 with 1 Axes>"
      ]
     },
     "metadata": {},
     "output_type": "display_data"
    }
   ],
   "source": [
    "# Skill drill, adjust the number to 20\n",
    "df.plot.hist(bins = 20)\n",
    "plt.tight_layout()"
   ]
  },
  {
   "cell_type": "code",
   "execution_count": 43,
   "metadata": {},
   "outputs": [],
   "source": [
    "# Write a function called `calc_temps` that will accept start date and end date in the format '%Y-%m-%d' \n",
    "# and return the minimum, average, and maximum temperatures for that range of dates\n",
    "def stats(start=None, end=None):\n",
    "    sel = [func.min(Measurement.tobs), func.avg(Measurement.tobs), func.max(Measurement.tobs)]\n",
    "\n",
    "    if not end:\n",
    "        results = session.query(*sel).\\\n",
    "            filter(Measurement.date >= start).all()\n",
    "        temps = list(np.ravel(results))\n",
    "        return jsonify(temps)\n",
    "\n",
    "    results = session.query(*sel).\\\n",
    "        filter(Measurement.date >= start).\\\n",
    "        filter(Measurement.date <= end).all()\n",
    "    temps = list(np.ravel(results))\n",
    "    return jsonify(temps)"
   ]
  },
  {
   "cell_type": "markdown",
   "metadata": {},
   "source": [
    "# Challenge"
   ]
  },
  {
   "cell_type": "code",
   "execution_count": null,
   "metadata": {},
   "outputs": [],
   "source": []
  }
 ],
 "metadata": {
  "kernelspec": {
   "display_name": "PythonData",
   "language": "python",
   "name": "pythondata"
  },
  "language_info": {
   "codemirror_mode": {
    "name": "ipython",
    "version": 3
   },
   "file_extension": ".py",
   "mimetype": "text/x-python",
   "name": "python",
   "nbconvert_exporter": "python",
   "pygments_lexer": "ipython3",
   "version": "3.9.12"
  }
 },
 "nbformat": 4,
 "nbformat_minor": 4
}
